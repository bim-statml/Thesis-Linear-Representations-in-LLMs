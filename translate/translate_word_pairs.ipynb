{
 "cells": [
  {
   "cell_type": "code",
   "execution_count": 3,
   "metadata": {},
   "outputs": [],
   "source": [
    "def process_txt_file(file_path, column_number):\n",
    "    \"\"\"\n",
    "    Processes the specified column of a text file, converting all words to lowercase,\n",
    "    and writes the changes back to the same file with columns separated by tabs.\n",
    "    \n",
    "    Args:\n",
    "    file_path (str): The path to the .txt file.\n",
    "    column_number (int): The column number to process (1 or 2).\n",
    "    \"\"\"\n",
    "    if column_number not in [1, 2]:\n",
    "        raise ValueError(\"Column number must be 1 or 2\")\n",
    "\n",
    "    processed_lines = []\n",
    "\n",
    "    with open(file_path, 'r') as file:\n",
    "        for line in file:\n",
    "            columns = line.strip().split('\\t')\n",
    "            if len(columns) < column_number:\n",
    "                continue  # Skip lines that don't have enough columns\n",
    "\n",
    "            # Convert the specified column to lowercase\n",
    "            columns[column_number - 1] = columns[column_number - 1].lower()\n",
    "            processed_lines.append(\"\\t\".join(columns))\n",
    "    \n",
    "    # Write the processed lines back to the same file\n",
    "    with open(file_path, 'w') as file:\n",
    "        file.write(\"\\n\".join(processed_lines))\n",
    "    \n",
    "    print(f\"Processing complete. Changes saved to '{file_path}'.\")"
   ]
  },
  {
   "cell_type": "code",
   "execution_count": 1,
   "metadata": {},
   "outputs": [],
   "source": [
    "def process_txt_file_both_columns(file_path):\n",
    "    \"\"\"\n",
    "    Processes both columns of a text file, converting all words to lowercase,\n",
    "    and writes the changes back to the same file with columns separated by tabs.\n",
    "    \n",
    "    Args:\n",
    "    file_path (str): The path to the .txt file.\n",
    "    \"\"\"\n",
    "    processed_lines = []\n",
    "\n",
    "    with open(file_path, 'r') as file:\n",
    "        for line in file:\n",
    "            columns = line.strip().split('\\t')\n",
    "            if len(columns) < 2:\n",
    "                continue  # Skip lines that don't have enough columns\n",
    "\n",
    "            # Convert both columns to lowercase\n",
    "            columns[0] = columns[0].lower()\n",
    "            columns[1] = columns[1].lower()\n",
    "            processed_lines.append(\"\\t\".join(columns))\n",
    "    \n",
    "    # Write the processed lines back to the same file\n",
    "    with open(file_path, 'w') as file:\n",
    "        file.write(\"\\n\".join(processed_lines))\n",
    "    \n",
    "    print(f\"Processing complete. Changes saved to '{file_path}'.\")"
   ]
  },
  {
   "cell_type": "code",
   "execution_count": 21,
   "metadata": {},
   "outputs": [
    {
     "name": "stdout",
     "output_type": "stream",
     "text": [
      "Processing complete. Changes saved to 'word_pairs/[Swedish - Italian].txt'.\n"
     ]
    }
   ],
   "source": [
    "file_path = 'word_pairs/[Swedish - Italian].txt'\n",
    "\n",
    "process_txt_file_both_columns(file_path)"
   ]
  },
  {
   "cell_type": "code",
   "execution_count": 11,
   "metadata": {},
   "outputs": [
    {
     "name": "stdout",
     "output_type": "stream",
     "text": [
      "Processing complete. Changes saved to 'word_pairs/[French - German].txt'.\n"
     ]
    }
   ],
   "source": [
    "file_path = 'word_pairs/[French - German].txt'\n",
    "\n",
    "process_txt_file(file_path, 1)"
   ]
  },
  {
   "cell_type": "markdown",
   "metadata": {},
   "source": [
    "# Translator functions"
   ]
  },
  {
   "cell_type": "code",
   "execution_count": 1,
   "metadata": {},
   "outputs": [],
   "source": [
    "from googletrans import Translator\n",
    "t = Translator()\n",
    "\n",
    "\n",
    "def extract_src_lang(filename, column=1):\n",
    "    clea_filename = filename.strip('\"')\n",
    "    bracket_content = clea_filename[clea_filename.find('[') + 1:clea_filename.find(']')]\n",
    "    languages = bracket_content.split('-')\n",
    "    if column == 1:\n",
    "        src_lang = languages[0].strip()\n",
    "    elif  column == 2:\n",
    "        src_lang = languages[1].strip()\n",
    "    \n",
    "    return(src_lang)\n",
    "\n",
    "\n",
    "\n",
    "\n",
    "def translate_words(filename, dest_lang, column=1):\n",
    "    codes = ['en', 'de', 'fr', 'es', 'it', 'pt', 'nl', 'sv','af']\n",
    "    languages = ['English', 'German', 'French', 'Spanish', 'Italian', 'Portuguese', 'Dutch', 'Swedish','Afrikaans']\n",
    "    \n",
    "    first_column = []\n",
    "    second_column = []\n",
    "    with open(filename, 'r') as f:\n",
    "        for line in f.readlines():\n",
    "            parts = line.strip().split('\\t')\n",
    "            if len(parts) == 2:\n",
    "                first_column.append(parts[0])\n",
    "                second_column.append(parts[1])\n",
    "                \n",
    "    if column == 1:\n",
    "        src_words = first_column\n",
    "    elif column == 2:\n",
    "         src_words = second_column\n",
    "         \n",
    "         \n",
    "    src_lang = codes[languages.index(extract_src_lang(filename,column))]             \n",
    "                      \n",
    "    tgt_words = []            \n",
    "    for word in src_words:\n",
    "        t_word = t.translate(word, src=src_lang, dest=dest_lang).text\n",
    "        tgt_words.append(t_word)\n",
    "        \n",
    "    combined = [f\"{word1}\\t{word2}\" for word1, word2 in zip(src_words,tgt_words)]\n",
    "    \n",
    "    \n",
    "    with open(f\"[{languages[codes.index(src_lang)]} - {languages[codes.index(dest_lang)]}].txt\", 'w') as file:\n",
    "        for item in combined:\n",
    "            file.write(item + \"\\n\")\n",
    "            \n",
    "def swap_cols(filename):\n",
    "    with open(filename, 'r') as f:\n",
    "        swapped_lines = []\n",
    "        for line in f.readlines():\n",
    "            columns = line.strip().split('\\t')\n",
    "            if len(columns) == 2:\n",
    "                swapped_line = f\"{columns[1]}\\t{columns[0]}\"\n",
    "                swapped_lines.append(swapped_line)\n",
    "            else:\n",
    "                swapped_lines.append(line.strip())\n",
    "                \n",
    "    first_lang = extract_src_lang(filename,column=1)\n",
    "    second_lang = extract_src_lang(filename,column=2)\n",
    "    with open(f\"[{second_lang} - {first_lang}].txt\", 'w') as file:\n",
    "        for swapped_line in swapped_lines:\n",
    "            file.write(swapped_line + \"\\n\")             "
   ]
  },
  {
   "cell_type": "code",
   "execution_count": 34,
   "metadata": {},
   "outputs": [],
   "source": [
    "swap_cols(\"[ - Spanish].txt\")"
   ]
  },
  {
   "cell_type": "code",
   "execution_count": 46,
   "metadata": {},
   "outputs": [],
   "source": [
    "translate_words('[German - Spanish].txt', 'pt', 1)\n",
    "\n",
    "swap_cols(\"[German - Portuguese].txt\")"
   ]
  },
  {
   "cell_type": "code",
   "execution_count": 11,
   "metadata": {},
   "outputs": [],
   "source": [
    "translate_words('[Spanish - Portuguese].txt', 'sv', 2)"
   ]
  }
 ],
 "metadata": {
  "kernelspec": {
   "display_name": "base",
   "language": "python",
   "name": "python3"
  },
  "language_info": {
   "codemirror_mode": {
    "name": "ipython",
    "version": 3
   },
   "file_extension": ".py",
   "mimetype": "text/x-python",
   "name": "python",
   "nbconvert_exporter": "python",
   "pygments_lexer": "ipython3",
   "version": "3.11.7"
  }
 },
 "nbformat": 4,
 "nbformat_minor": 2
}
